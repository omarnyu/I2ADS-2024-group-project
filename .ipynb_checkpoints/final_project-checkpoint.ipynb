{
 "cells": [
  {
   "cell_type": "code",
   "execution_count": 3,
   "id": "1f807d9a-3c36-40af-932c-d340f789bc0c",
   "metadata": {},
   "outputs": [],
   "source": [
    "import pandas as pd\n",
    "import geopandas as gpd\n",
    "import numpy as np\n",
    "import os\n",
    "import requests"
   ]
  },
  {
   "cell_type": "code",
   "execution_count": 5,
   "id": "0793821d-ff5a-49be-8300-ebb4f8cd4e74",
   "metadata": {},
   "outputs": [],
   "source": [
    "def load_data(file_path, url_path):\n",
    "    if os.path.exists(file_path):\n",
    "        df = pd.read_csv(file_path)\n",
    "    else:\n",
    "        d,i,offset_size = [],0,100000\n",
    "        k = offset_size\n",
    "        while k == offset_size:\n",
    "            if i > 10:\n",
    "                break\n",
    "            r=requests.get(\n",
    "                url = url_path, \n",
    "                params={\n",
    "                    '$limit':offset_size, \n",
    "                    '$offset':offset_size*i\n",
    "                }\n",
    "            )\n",
    "    \n",
    "            as_df = pd.DataFrame(r.json())\n",
    "            k = len(as_df)\n",
    "            i += 1\n",
    "            d.append(as_df)\n",
    "    \n",
    "        df = pd.concat(d)\n",
    "        df.to_csv(file_path)\n",
    "        df.head(10)\n",
    "    return df"
   ]
  },
  {
   "cell_type": "code",
   "execution_count": 7,
   "id": "bcab619b-921e-4dc8-92a2-ffebcdf0b856",
   "metadata": {},
   "outputs": [],
   "source": [
    "tree_census_df =load_data('data/tree_census_15.csv', 'https://data.cityofnewyork.us/resource/5rq2-4hqu.json')"
   ]
  },
  {
   "cell_type": "code",
   "execution_count": 9,
   "id": "3f1b358a-5b5e-4f3c-986c-3ead2f09e142",
   "metadata": {},
   "outputs": [],
   "source": [
    "air_quality_df = load_data('data/Air_Quality_20241206.csv', 'https://data.cityofnewyork.us/resource/c3uy-2p5r.json')"
   ]
  },
  {
   "cell_type": "code",
   "execution_count": 11,
   "id": "43a670f5-8b66-4f38-a382-21b4e2d36fbc",
   "metadata": {},
   "outputs": [],
   "source": [
    "green_streets_df = load_data('data/Greenstreets.csv', 'https://data.cityofnewyork.us/resource/mk9u-qu7i.json')"
   ]
  },
  {
   "cell_type": "code",
   "execution_count": 13,
   "id": "875ab841-11d8-4e59-ad34-056a561d77ae",
   "metadata": {},
   "outputs": [],
   "source": [
    "property_valuation_df = load_data('data/Property_Valuation_and_Assessment_Data_20241125.csv', 'https://data.cityofnewyork.us/resource/yjxr-fw8i.json')"
   ]
  },
  {
   "cell_type": "markdown",
   "id": "75ec1441-dbdf-458c-9736-7a640d2439db",
   "metadata": {},
   "source": [
    "# Tree Census Data Sanitation "
   ]
  },
  {
   "cell_type": "code",
   "execution_count": 15,
   "id": "08aca1a5-8c1b-4360-b202-4ff187289a6b",
   "metadata": {},
   "outputs": [
    {
     "data": {
      "text/plain": [
       "(683788, 43)"
      ]
     },
     "execution_count": 15,
     "metadata": {},
     "output_type": "execute_result"
    }
   ],
   "source": [
    "tree_census_df.shape"
   ]
  },
  {
   "cell_type": "markdown",
   "id": "b9e4e471-0986-4086-8c32-c92cc8a22f88",
   "metadata": {},
   "source": [
    "# Air Quality Data Sanitation"
   ]
  },
  {
   "cell_type": "code",
   "execution_count": 17,
   "id": "c8b36ebf-1cbb-405e-a318-ab653f53bd4d",
   "metadata": {},
   "outputs": [
    {
     "data": {
      "text/html": [
       "<div>\n",
       "<style scoped>\n",
       "    .dataframe tbody tr th:only-of-type {\n",
       "        vertical-align: middle;\n",
       "    }\n",
       "\n",
       "    .dataframe tbody tr th {\n",
       "        vertical-align: top;\n",
       "    }\n",
       "\n",
       "    .dataframe thead th {\n",
       "        text-align: right;\n",
       "    }\n",
       "</style>\n",
       "<table border=\"1\" class=\"dataframe\">\n",
       "  <thead>\n",
       "    <tr style=\"text-align: right;\">\n",
       "      <th></th>\n",
       "      <th>Unnamed: 0</th>\n",
       "      <th>unique_id</th>\n",
       "      <th>indicator_id</th>\n",
       "      <th>name</th>\n",
       "      <th>measure</th>\n",
       "      <th>measure_info</th>\n",
       "      <th>geo_type_name</th>\n",
       "      <th>geo_join_id</th>\n",
       "      <th>geo_place_name</th>\n",
       "      <th>time_period</th>\n",
       "      <th>start_date</th>\n",
       "      <th>data_value</th>\n",
       "    </tr>\n",
       "  </thead>\n",
       "  <tbody>\n",
       "    <tr>\n",
       "      <th>0</th>\n",
       "      <td>0</td>\n",
       "      <td>827080</td>\n",
       "      <td>386</td>\n",
       "      <td>Ozone (O3)</td>\n",
       "      <td>Mean</td>\n",
       "      <td>ppb</td>\n",
       "      <td>UHF34</td>\n",
       "      <td>104.0</td>\n",
       "      <td>Pelham - Throgs Neck</td>\n",
       "      <td>Summer 2022</td>\n",
       "      <td>2022-06-01T00:00:00.000</td>\n",
       "      <td>33.3</td>\n",
       "    </tr>\n",
       "    <tr>\n",
       "      <th>1</th>\n",
       "      <td>1</td>\n",
       "      <td>827061</td>\n",
       "      <td>386</td>\n",
       "      <td>Ozone (O3)</td>\n",
       "      <td>Mean</td>\n",
       "      <td>ppb</td>\n",
       "      <td>UHF34</td>\n",
       "      <td>405.0</td>\n",
       "      <td>Ridgewood - Forest Hills</td>\n",
       "      <td>Summer 2022</td>\n",
       "      <td>2022-06-01T00:00:00.000</td>\n",
       "      <td>34.2</td>\n",
       "    </tr>\n",
       "    <tr>\n",
       "      <th>2</th>\n",
       "      <td>2</td>\n",
       "      <td>827067</td>\n",
       "      <td>386</td>\n",
       "      <td>Ozone (O3)</td>\n",
       "      <td>Mean</td>\n",
       "      <td>ppb</td>\n",
       "      <td>UHF34</td>\n",
       "      <td>302.0</td>\n",
       "      <td>Central Harlem - Morningside Heights</td>\n",
       "      <td>Summer 2022</td>\n",
       "      <td>2022-06-01T00:00:00.000</td>\n",
       "      <td>30.9</td>\n",
       "    </tr>\n",
       "    <tr>\n",
       "      <th>3</th>\n",
       "      <td>3</td>\n",
       "      <td>827081</td>\n",
       "      <td>386</td>\n",
       "      <td>Ozone (O3)</td>\n",
       "      <td>Mean</td>\n",
       "      <td>ppb</td>\n",
       "      <td>UHF34</td>\n",
       "      <td>103.0</td>\n",
       "      <td>Fordham - Bronx Pk</td>\n",
       "      <td>Summer 2022</td>\n",
       "      <td>2022-06-01T00:00:00.000</td>\n",
       "      <td>31.7</td>\n",
       "    </tr>\n",
       "    <tr>\n",
       "      <th>4</th>\n",
       "      <td>4</td>\n",
       "      <td>825967</td>\n",
       "      <td>375</td>\n",
       "      <td>Nitrogen dioxide (NO2)</td>\n",
       "      <td>Mean</td>\n",
       "      <td>ppb</td>\n",
       "      <td>UHF34</td>\n",
       "      <td>104.0</td>\n",
       "      <td>Pelham - Throgs Neck</td>\n",
       "      <td>Summer 2022</td>\n",
       "      <td>2022-06-01T00:00:00.000</td>\n",
       "      <td>12.0</td>\n",
       "    </tr>\n",
       "  </tbody>\n",
       "</table>\n",
       "</div>"
      ],
      "text/plain": [
       "   Unnamed: 0  unique_id  indicator_id                    name measure  \\\n",
       "0           0     827080           386              Ozone (O3)    Mean   \n",
       "1           1     827061           386              Ozone (O3)    Mean   \n",
       "2           2     827067           386              Ozone (O3)    Mean   \n",
       "3           3     827081           386              Ozone (O3)    Mean   \n",
       "4           4     825967           375  Nitrogen dioxide (NO2)    Mean   \n",
       "\n",
       "  measure_info geo_type_name  geo_join_id  \\\n",
       "0          ppb         UHF34        104.0   \n",
       "1          ppb         UHF34        405.0   \n",
       "2          ppb         UHF34        302.0   \n",
       "3          ppb         UHF34        103.0   \n",
       "4          ppb         UHF34        104.0   \n",
       "\n",
       "                         geo_place_name  time_period               start_date  \\\n",
       "0                  Pelham - Throgs Neck  Summer 2022  2022-06-01T00:00:00.000   \n",
       "1              Ridgewood - Forest Hills  Summer 2022  2022-06-01T00:00:00.000   \n",
       "2  Central Harlem - Morningside Heights  Summer 2022  2022-06-01T00:00:00.000   \n",
       "3                    Fordham - Bronx Pk  Summer 2022  2022-06-01T00:00:00.000   \n",
       "4                  Pelham - Throgs Neck  Summer 2022  2022-06-01T00:00:00.000   \n",
       "\n",
       "   data_value  \n",
       "0        33.3  \n",
       "1        34.2  \n",
       "2        30.9  \n",
       "3        31.7  \n",
       "4        12.0  "
      ]
     },
     "execution_count": 17,
     "metadata": {},
     "output_type": "execute_result"
    }
   ],
   "source": [
    "air_quality_df.head()"
   ]
  },
  {
   "cell_type": "code",
   "execution_count": 19,
   "id": "6929b37c-e537-4f7a-bd87-5a3145d307c5",
   "metadata": {},
   "outputs": [],
   "source": [
    "air_quality_df = air_quality_df.dropna(subset=['geo_join_id'])"
   ]
  },
  {
   "cell_type": "code",
   "execution_count": 21,
   "id": "00b678f5-39f2-44b8-8ebb-98e07775b101",
   "metadata": {},
   "outputs": [],
   "source": [
    "air_quality_df['geo_join_id'] = air_quality_df['geo_join_id'].astype('int64')"
   ]
  },
  {
   "cell_type": "code",
   "execution_count": 27,
   "id": "b06f3031-ad84-4c2f-9865-c13d160e0f78",
   "metadata": {},
   "outputs": [
    {
     "data": {
      "text/plain": [
       "array(['Ozone (O3)', 'Nitrogen dioxide (NO2)', 'Fine particles (PM 2.5)',\n",
       "       'Annual vehicle miles traveled (cars)',\n",
       "       'Annual vehicle miles traveled (trucks)',\n",
       "       'Annual vehicle miles traveled',\n",
       "       'Respiratory hospitalizations due to PM2.5 (age 20+)',\n",
       "       'Asthma emergency department visits due to PM2.5',\n",
       "       'Asthma emergency departments visits due to Ozone',\n",
       "       'Cardiovascular hospitalizations due to PM2.5 (age 40+)',\n",
       "       'Cardiac and respiratory deaths due to Ozone',\n",
       "       'Asthma hospitalizations due to Ozone', 'Deaths due to PM2.5',\n",
       "       'Boiler Emissions- Total PM2.5 Emissions',\n",
       "       'Boiler Emissions- Total SO2 Emissions',\n",
       "       'Boiler Emissions- Total NOx Emissions',\n",
       "       'Outdoor Air Toxics - Formaldehyde',\n",
       "       'Outdoor Air Toxics - Benzene'], dtype=object)"
      ]
     },
     "execution_count": 27,
     "metadata": {},
     "output_type": "execute_result"
    }
   ],
   "source": [
    "air_quality_df['name'].unique()"
   ]
  },
  {
   "cell_type": "code",
   "execution_count": 29,
   "id": "fe80b2c9-8f08-4a3b-a2ce-9c49174d0abb",
   "metadata": {},
   "outputs": [],
   "source": [
    "air_quality_df = air_quality_df[air_quality_df['name'].str.contains('Outdoor Air Toxics') | air_quality_df['name'].str.contains('Boiler Emissions') ]"
   ]
  },
  {
   "cell_type": "code",
   "execution_count": 39,
   "id": "b6ad768b-ae61-4409-846f-a1b582fa6d6c",
   "metadata": {},
   "outputs": [],
   "source": [
    "simplified_tree_df = tree_census_df[['the_geom', 'zipcode', 'zip_city', 'cb_num', 'borocode', 'boroname', 'boro_ct', 'state']]"
   ]
  },
  {
   "cell_type": "code",
   "execution_count": 49,
   "id": "0d77920f-8fe0-4df3-8fe7-82f5685912c2",
   "metadata": {},
   "outputs": [],
   "source": [
    "simplified_tree_df = simplified_tree_df[(simplified_tree_df['zipcode'] >= 10000) & (simplified_tree_df['zipcode']<11500)]"
   ]
  },
  {
   "cell_type": "code",
   "execution_count": 55,
   "id": "fbf49fee-795c-407f-a498-6114c4ce1b16",
   "metadata": {},
   "outputs": [
    {
     "data": {
      "text/plain": [
       "(670351, 8)"
      ]
     },
     "execution_count": 55,
     "metadata": {},
     "output_type": "execute_result"
    }
   ],
   "source": [
    "simplified_tree_df.shape"
   ]
  },
  {
   "cell_type": "code",
   "execution_count": 57,
   "id": "d5ea0c2d-2c45-4f14-83f6-8d7821bda610",
   "metadata": {},
   "outputs": [],
   "source": [
    "simplified_tree_df = simplified_tree_df.drop_duplicates(subset=['cb_num'])"
   ]
  },
  {
   "cell_type": "code",
   "execution_count": 59,
   "id": "9009649f-b19e-4f67-b9d6-094c4611c0b7",
   "metadata": {},
   "outputs": [
    {
     "data": {
      "text/plain": [
       "(59, 8)"
      ]
     },
     "execution_count": 59,
     "metadata": {},
     "output_type": "execute_result"
    }
   ],
   "source": [
    "simplified_tree_df.shape"
   ]
  },
  {
   "cell_type": "code",
   "execution_count": 71,
   "id": "7ebe173d-8420-4470-9b27-2a3a62f0d879",
   "metadata": {},
   "outputs": [],
   "source": [
    "air_quality_geo_df =  air_quality_df.merge(simplified_tree_df, left_on='geo_join_id', right_on='cb_num')"
   ]
  },
  {
   "cell_type": "code",
   "execution_count": 75,
   "id": "815642b4-f75f-462a-9b5b-a6acc4b6ca5e",
   "metadata": {},
   "outputs": [
    {
     "data": {
      "text/html": [
       "<div>\n",
       "<style scoped>\n",
       "    .dataframe tbody tr th:only-of-type {\n",
       "        vertical-align: middle;\n",
       "    }\n",
       "\n",
       "    .dataframe tbody tr th {\n",
       "        vertical-align: top;\n",
       "    }\n",
       "\n",
       "    .dataframe thead th {\n",
       "        text-align: right;\n",
       "    }\n",
       "</style>\n",
       "<table border=\"1\" class=\"dataframe\">\n",
       "  <thead>\n",
       "    <tr style=\"text-align: right;\">\n",
       "      <th></th>\n",
       "      <th>Unnamed: 0</th>\n",
       "      <th>unique_id</th>\n",
       "      <th>indicator_id</th>\n",
       "      <th>name</th>\n",
       "      <th>measure</th>\n",
       "      <th>measure_info</th>\n",
       "      <th>geo_type_name</th>\n",
       "      <th>geo_join_id</th>\n",
       "      <th>geo_place_name</th>\n",
       "      <th>time_period</th>\n",
       "      <th>start_date</th>\n",
       "      <th>data_value</th>\n",
       "      <th>the_geom</th>\n",
       "      <th>zipcode</th>\n",
       "      <th>zip_city</th>\n",
       "      <th>cb_num</th>\n",
       "      <th>borocode</th>\n",
       "      <th>boroname</th>\n",
       "      <th>boro_ct</th>\n",
       "      <th>state</th>\n",
       "    </tr>\n",
       "  </thead>\n",
       "  <tbody>\n",
       "    <tr>\n",
       "      <th>0</th>\n",
       "      <td>8151</td>\n",
       "      <td>179825</td>\n",
       "      <td>641</td>\n",
       "      <td>Boiler Emissions- Total PM2.5 Emissions</td>\n",
       "      <td>Number per km2</td>\n",
       "      <td>number</td>\n",
       "      <td>UHF42</td>\n",
       "      <td>406</td>\n",
       "      <td>Fresh Meadows</td>\n",
       "      <td>2015</td>\n",
       "      <td>2015-01-01T00:00:00.000</td>\n",
       "      <td>0.4</td>\n",
       "      <td>{'type': 'Point', 'coordinates': [-73.84421521...</td>\n",
       "      <td>11375</td>\n",
       "      <td>Forest Hills</td>\n",
       "      <td>406</td>\n",
       "      <td>4</td>\n",
       "      <td>Queens</td>\n",
       "      <td>4073900</td>\n",
       "      <td>New York</td>\n",
       "    </tr>\n",
       "    <tr>\n",
       "      <th>1</th>\n",
       "      <td>8157</td>\n",
       "      <td>179783</td>\n",
       "      <td>640</td>\n",
       "      <td>Boiler Emissions- Total SO2 Emissions</td>\n",
       "      <td>Number per km2</td>\n",
       "      <td>number</td>\n",
       "      <td>UHF42</td>\n",
       "      <td>104</td>\n",
       "      <td>Pelham - Throgs Neck</td>\n",
       "      <td>2015</td>\n",
       "      <td>2015-01-01T00:00:00.000</td>\n",
       "      <td>2.8</td>\n",
       "      <td>{'type': 'Point', 'coordinates': [-73.98729652...</td>\n",
       "      <td>10019</td>\n",
       "      <td>New York</td>\n",
       "      <td>104</td>\n",
       "      <td>1</td>\n",
       "      <td>Manhattan</td>\n",
       "      <td>1012700</td>\n",
       "      <td>New York</td>\n",
       "    </tr>\n",
       "    <tr>\n",
       "      <th>2</th>\n",
       "      <td>8158</td>\n",
       "      <td>179773</td>\n",
       "      <td>640</td>\n",
       "      <td>Boiler Emissions- Total SO2 Emissions</td>\n",
       "      <td>Number per km2</td>\n",
       "      <td>number</td>\n",
       "      <td>UHF42</td>\n",
       "      <td>404</td>\n",
       "      <td>Bayside - Little Neck</td>\n",
       "      <td>2015</td>\n",
       "      <td>2015-01-01T00:00:00.000</td>\n",
       "      <td>0.9</td>\n",
       "      <td>{'type': 'Point', 'coordinates': [-73.86529991...</td>\n",
       "      <td>11373</td>\n",
       "      <td>Elmhurst</td>\n",
       "      <td>404</td>\n",
       "      <td>4</td>\n",
       "      <td>Queens</td>\n",
       "      <td>4044302</td>\n",
       "      <td>New York</td>\n",
       "    </tr>\n",
       "    <tr>\n",
       "      <th>3</th>\n",
       "      <td>8159</td>\n",
       "      <td>179722</td>\n",
       "      <td>642</td>\n",
       "      <td>Boiler Emissions- Total NOx Emissions</td>\n",
       "      <td>Number per km2</td>\n",
       "      <td>number</td>\n",
       "      <td>UHF42</td>\n",
       "      <td>410</td>\n",
       "      <td>Rockaways</td>\n",
       "      <td>2015</td>\n",
       "      <td>2015-01-01T00:00:00.000</td>\n",
       "      <td>6.1</td>\n",
       "      <td>{'type': 'Point', 'coordinates': [-73.84344476...</td>\n",
       "      <td>11414</td>\n",
       "      <td>Howard Beach</td>\n",
       "      <td>410</td>\n",
       "      <td>4</td>\n",
       "      <td>Queens</td>\n",
       "      <td>4089200</td>\n",
       "      <td>New York</td>\n",
       "    </tr>\n",
       "    <tr>\n",
       "      <th>4</th>\n",
       "      <td>8160</td>\n",
       "      <td>179792</td>\n",
       "      <td>640</td>\n",
       "      <td>Boiler Emissions- Total SO2 Emissions</td>\n",
       "      <td>Number per km2</td>\n",
       "      <td>number</td>\n",
       "      <td>UHF42</td>\n",
       "      <td>206</td>\n",
       "      <td>Borough Park</td>\n",
       "      <td>2015</td>\n",
       "      <td>2015-01-01T00:00:00.000</td>\n",
       "      <td>1.1</td>\n",
       "      <td>{'type': 'Point', 'coordinates': [-73.89338225...</td>\n",
       "      <td>10457</td>\n",
       "      <td>Bronx</td>\n",
       "      <td>206</td>\n",
       "      <td>2</td>\n",
       "      <td>Bronx</td>\n",
       "      <td>2037504</td>\n",
       "      <td>New York</td>\n",
       "    </tr>\n",
       "  </tbody>\n",
       "</table>\n",
       "</div>"
      ],
      "text/plain": [
       "   Unnamed: 0  unique_id  indicator_id  \\\n",
       "0        8151     179825           641   \n",
       "1        8157     179783           640   \n",
       "2        8158     179773           640   \n",
       "3        8159     179722           642   \n",
       "4        8160     179792           640   \n",
       "\n",
       "                                      name         measure measure_info  \\\n",
       "0  Boiler Emissions- Total PM2.5 Emissions  Number per km2       number   \n",
       "1    Boiler Emissions- Total SO2 Emissions  Number per km2       number   \n",
       "2    Boiler Emissions- Total SO2 Emissions  Number per km2       number   \n",
       "3    Boiler Emissions- Total NOx Emissions  Number per km2       number   \n",
       "4    Boiler Emissions- Total SO2 Emissions  Number per km2       number   \n",
       "\n",
       "  geo_type_name  geo_join_id         geo_place_name time_period  \\\n",
       "0         UHF42          406          Fresh Meadows        2015   \n",
       "1         UHF42          104   Pelham - Throgs Neck        2015   \n",
       "2         UHF42          404  Bayside - Little Neck        2015   \n",
       "3         UHF42          410              Rockaways        2015   \n",
       "4         UHF42          206           Borough Park        2015   \n",
       "\n",
       "                start_date  data_value  \\\n",
       "0  2015-01-01T00:00:00.000         0.4   \n",
       "1  2015-01-01T00:00:00.000         2.8   \n",
       "2  2015-01-01T00:00:00.000         0.9   \n",
       "3  2015-01-01T00:00:00.000         6.1   \n",
       "4  2015-01-01T00:00:00.000         1.1   \n",
       "\n",
       "                                            the_geom  zipcode      zip_city  \\\n",
       "0  {'type': 'Point', 'coordinates': [-73.84421521...    11375  Forest Hills   \n",
       "1  {'type': 'Point', 'coordinates': [-73.98729652...    10019      New York   \n",
       "2  {'type': 'Point', 'coordinates': [-73.86529991...    11373      Elmhurst   \n",
       "3  {'type': 'Point', 'coordinates': [-73.84344476...    11414  Howard Beach   \n",
       "4  {'type': 'Point', 'coordinates': [-73.89338225...    10457         Bronx   \n",
       "\n",
       "   cb_num  borocode   boroname  boro_ct     state  \n",
       "0     406         4     Queens  4073900  New York  \n",
       "1     104         1  Manhattan  1012700  New York  \n",
       "2     404         4     Queens  4044302  New York  \n",
       "3     410         4     Queens  4089200  New York  \n",
       "4     206         2      Bronx  2037504  New York  "
      ]
     },
     "execution_count": 75,
     "metadata": {},
     "output_type": "execute_result"
    }
   ],
   "source": [
    "air_quality_geo_df.head()"
   ]
  },
  {
   "cell_type": "markdown",
   "id": "ac6ecf71-99db-4a22-a033-1bccc517e341",
   "metadata": {},
   "source": [
    "# Green Streets Data Sanitation"
   ]
  },
  {
   "cell_type": "code",
   "execution_count": 25,
   "id": "17074b78-1b63-4e4a-b0aa-15d3bb656dde",
   "metadata": {},
   "outputs": [
    {
     "data": {
      "text/plain": [
       "(2753, 26)"
      ]
     },
     "execution_count": 25,
     "metadata": {},
     "output_type": "execute_result"
    }
   ],
   "source": [
    "green_streets_df.shape"
   ]
  },
  {
   "cell_type": "markdown",
   "id": "438c31fd-a240-47ef-aef6-ffc232782e9c",
   "metadata": {},
   "source": [
    "# Property Valuation Data Sanitation"
   ]
  },
  {
   "cell_type": "code",
   "execution_count": 26,
   "id": "2dfe6cd9-db9c-4326-9aed-5ac69a4865dc",
   "metadata": {},
   "outputs": [
    {
     "data": {
      "text/plain": [
       "(1100000, 45)"
      ]
     },
     "execution_count": 26,
     "metadata": {},
     "output_type": "execute_result"
    }
   ],
   "source": [
    "property_valuation_df.shape"
   ]
  },
  {
   "cell_type": "code",
   "execution_count": null,
   "id": "8b1500f3-9c9f-40c9-877e-905ae944b582",
   "metadata": {},
   "outputs": [],
   "source": []
  }
 ],
 "metadata": {
  "kernelspec": {
   "display_name": "Python 3 (ipykernel)",
   "language": "python",
   "name": "python3"
  },
  "language_info": {
   "codemirror_mode": {
    "name": "ipython",
    "version": 3
   },
   "file_extension": ".py",
   "mimetype": "text/x-python",
   "name": "python",
   "nbconvert_exporter": "python",
   "pygments_lexer": "ipython3",
   "version": "3.12.4"
  }
 },
 "nbformat": 4,
 "nbformat_minor": 5
}
