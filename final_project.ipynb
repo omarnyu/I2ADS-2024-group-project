{
 "cells": [
  {
   "cell_type": "code",
   "execution_count": 14,
   "id": "1f807d9a-3c36-40af-932c-d340f789bc0c",
   "metadata": {},
   "outputs": [],
   "source": [
    "import pandas as pd\n",
    "import geopandas as gpd\n",
    "from geopy.geocoders import Nominatim\n",
    "import numpy as np\n",
    "import os\n",
    "import requests"
   ]
  },
  {
   "cell_type": "code",
   "execution_count": 15,
   "id": "0793821d-ff5a-49be-8300-ebb4f8cd4e74",
   "metadata": {},
   "outputs": [],
   "source": [
    "def load_data(file_path, url_path):\n",
    "    if os.path.exists(file_path):\n",
    "        df = pd.read_csv(file_path)\n",
    "    else:\n",
    "        d,i,offset_size = [],0,100000\n",
    "        k = offset_size\n",
    "        while k == offset_size:\n",
    "            if i > 10:\n",
    "                break\n",
    "            r=requests.get(\n",
    "                url = url_path, \n",
    "                params={\n",
    "                    '$limit':offset_size, \n",
    "                    '$offset':offset_size*i\n",
    "                }\n",
    "            )\n",
    "    \n",
    "            as_df = pd.DataFrame(r.json())\n",
    "            k = len(as_df)\n",
    "            i += 1\n",
    "            d.append(as_df)\n",
    "    \n",
    "        df = pd.concat(d)\n",
    "        df.to_csv(file_path)\n",
    "        df.head(10)\n",
    "    return df"
   ]
  },
  {
   "cell_type": "code",
   "execution_count": 18,
   "id": "bcab619b-921e-4dc8-92a2-ffebcdf0b856",
   "metadata": {},
   "outputs": [],
   "source": [
    "tree_census_df =load_data('data/tree_census_15.csv', 'https://data.cityofnewyork.us/resource/5rq2-4hqu.json')\n",
    "air_quality_df = load_data('data/Air_Quality_20241206.csv', 'https://data.cityofnewyork.us/resource/c3uy-2p5r.json')\n",
    "green_streets_df = load_data('data/Greenstreets.csv', 'https://data.cityofnewyork.us/resource/mk9u-qu7i.json')\n",
    "property_valuation_df = load_data('data/Property_Valuation_and_Assessment_Data_20241125.csv', 'https://data.cityofnewyork.us/resource/yjxr-fw8i.json')"
   ]
  },
  {
   "cell_type": "markdown",
   "id": "75ec1441-dbdf-458c-9736-7a640d2439db",
   "metadata": {},
   "source": [
    "# Tree Census Data Sanitation "
   ]
  },
  {
   "cell_type": "code",
   "execution_count": 5,
   "id": "08aca1a5-8c1b-4360-b202-4ff187289a6b",
   "metadata": {},
   "outputs": [
    {
     "data": {
      "text/plain": [
       "(683788, 43)"
      ]
     },
     "execution_count": 5,
     "metadata": {},
     "output_type": "execute_result"
    }
   ],
   "source": [
    "tree_census_df.shape"
   ]
  },
  {
   "cell_type": "markdown",
   "id": "b9e4e471-0986-4086-8c32-c92cc8a22f88",
   "metadata": {},
   "source": [
    "# Air Quality Data Sanitation"
   ]
  },
  {
   "cell_type": "code",
   "execution_count": 6,
   "id": "6929b37c-e537-4f7a-bd87-5a3145d307c5",
   "metadata": {},
   "outputs": [
    {
     "data": {
      "text/plain": [
       "(18025, 12)"
      ]
     },
     "execution_count": 6,
     "metadata": {},
     "output_type": "execute_result"
    }
   ],
   "source": [
    "air_quality_df.shape"
   ]
  },
  {
   "cell_type": "markdown",
   "id": "ac6ecf71-99db-4a22-a033-1bccc517e341",
   "metadata": {},
   "source": [
    "# Green Streets Data Sanitation"
   ]
  },
  {
   "cell_type": "code",
   "execution_count": 7,
   "id": "17074b78-1b63-4e4a-b0aa-15d3bb656dde",
   "metadata": {},
   "outputs": [
    {
     "data": {
      "text/plain": [
       "(2753, 26)"
      ]
     },
     "execution_count": 7,
     "metadata": {},
     "output_type": "execute_result"
    }
   ],
   "source": [
    "green_streets_df.shape"
   ]
  },
  {
   "cell_type": "markdown",
   "id": "438c31fd-a240-47ef-aef6-ffc232782e9c",
   "metadata": {},
   "source": [
    "# Property Valuation Data Sanitation"
   ]
  },
  {
   "cell_type": "code",
   "execution_count": 19,
   "id": "2dfe6cd9-db9c-4326-9aed-5ac69a4865dc",
   "metadata": {},
   "outputs": [
    {
     "data": {
      "text/plain": [
       "(1100000, 45)"
      ]
     },
     "execution_count": 19,
     "metadata": {},
     "output_type": "execute_result"
    }
   ],
   "source": [
    "property_valuation_df.shape"
   ]
  },
  {
   "cell_type": "code",
   "execution_count": null,
   "id": "8b1500f3-9c9f-40c9-877e-905ae944b582",
   "metadata": {},
   "outputs": [],
   "source": []
  }
 ],
 "metadata": {
  "kernelspec": {
   "display_name": "Python 3 (ipykernel)",
   "language": "python",
   "name": "python3"
  },
  "language_info": {
   "codemirror_mode": {
    "name": "ipython",
    "version": 3
   },
   "file_extension": ".py",
   "mimetype": "text/x-python",
   "name": "python",
   "nbconvert_exporter": "python",
   "pygments_lexer": "ipython3",
   "version": "3.12.4"
  }
 },
 "nbformat": 4,
 "nbformat_minor": 5
}
